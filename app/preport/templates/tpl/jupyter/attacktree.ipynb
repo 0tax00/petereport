
  {
   "cell_type": "markdown",
   "metadata": {},
   "source": [
    "## {{attacktree_in_finding.title}}\n\n",
    "![{{attacktree_in_finding.title}}]({{image_content_base64}})\n",
    "\n\n"
   ]
  },