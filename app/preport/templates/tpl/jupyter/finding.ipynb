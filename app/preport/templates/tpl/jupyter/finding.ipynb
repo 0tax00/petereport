{% load app_filters %}

  {
   "cell_type": "markdown",
   "metadata": {},
   "source": [
    "## {{ finding.title }}\n",
    "**Severity:** {{ finding.severity }}\n\n",
    "**CVSS Score:** {{ finding.cvss_base_score }}\n\n",
    "**CWE:** {{ finding.cwe.cwe_id }} - {{ finding.cwe.cwe_name }}\n\n",
    {% if finding.description %}
    "**Description**\n\n",
    "{{ finding.description|jupyter_format }}\n\n",
    {% endif %}
    {% if finding.location %}
    "**Location**\n\n",
    "{{finding.location|jupyter_format }}\n\n",
    {% endif %}
    {% if finding.impact %}
    "**Impact**\n\n",
    "{{ finding.impact|jupyter_format }}\n\n",
    {% endif %}
    {% if finding.recommendation %}
    "**Recommendation**\n\n",
    "{{ finding.recommendation|jupyter_format }}\n\n",
    {% endif %}
    {% if finding.references %}
    "**References**\n\n",
    "{{ finding.references|jupyter_format }}\n\n",
    {% endif %}
    {% if finding.custom_field_finding %}
    {% for field_in_finding in finding.custom_field_finding.all %}
    "**{{field_in_finding.title}}**\n\n",
    "{{ field_in_finding.description|jupyter_format }}\n\n",
    {% endfor %}
    {% endif %}
    "**Additional notes**\n",
    "\n"
   ]
  },