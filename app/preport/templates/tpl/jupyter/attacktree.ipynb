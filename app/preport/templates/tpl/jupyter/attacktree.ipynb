{% load app_filters %}

  {
   "cell_type": "markdown",
   "metadata": {},
   "source": [
    "## {{attacktree_in_finding.title}}\n",
    "![{{attacktree_in_finding.title}}]({{image_content_base64}})\n",
    "\n"
   ]
  },