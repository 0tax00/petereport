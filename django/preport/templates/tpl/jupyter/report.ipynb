{% load app_filters %}
{
 "cells": [

  {
   "cell_type": "markdown",
   "metadata": {},
   "source": [
    "# Project Overview\n",
    "## Description\n",
    "{{ DB_report_query.product.description|jupyter_format }}\n\n"
   ]
  },


  {
   "cell_type": "markdown",
   "metadata": {},
   "source": [
    "# Executive Summary\n",
    "{{ DB_report_query.executive_summary|jupyter_format }}\n\n",
    "## Summary of Findings Identified\n",
    "\n"
   ]
  },


  {
   "cell_type": "code",
   "execution_count": null,
   "metadata": {},
   "outputs": [],
   "source": [
    "import matplotlib.pyplot as plt\n",
    "\n",
    "fig = plt.figure(figsize = (10, 5))\n",
    "ax = fig.add_axes([0,0,1,1])\n",
    "width = 0.80\n",
    "\n",
    "severity = ['Critical', 'High', 'Medium', 'Low', 'Informational']\n",
    "value = [{{counter_finding_critical}},{{counter_finding_high}},{{counter_finding_medium}},{{counter_finding_low}},{{counter_finding_info}}]\n",
    "\n",
    "plt.title('Breakdown by Severity')\n",
    "\n",
    "ax.bar(severity[0], value[0], color='#CC0000', width=width)\n",
    "ax.bar(severity[1], value[1], color='#FF0000', width=width)\n",
    "ax.bar(severity[2], value[2], color='#FC7F03', width=width)\n",
    "ax.bar(severity[3], value[3], color='#05B04F', width=width)\n",
    "ax.bar(severity[4], value[4], color='#002060', width=width)\n",
    "\n",
    "plt.show()\n"
   ]
  },

{{ finding_summary|safe }}

  {
   "cell_type": "markdown",
   "metadata": {},
   "source": [
    "## Scope\n",
    "### In Scope\n",
    "{{ DB_report_query.scope|jupyter_format }}\n\n",
    "### Out of Scope\n",
    "{{ DB_report_query.outofscope|jupyter_format }}\n\n",
    "\n"
   ]
  },

  {
   "cell_type": "markdown",
   "metadata": {},
   "source": [
    "## Methodology\n",
    "{{ DB_report_query.methodology|jupyter_format }}\n\n",
    "\n"
   ]
  },

  {
   "cell_type": "markdown",
   "metadata": {},
   "source": [
    "## Recommendations\n",
    "{{ DB_report_query.recommendation|jupyter_format }}\n\n",
    "\n"
   ]
  },

  {
   "cell_type": "markdown",
   "metadata": {},
   "source": [
    "# Findings and Risk Analysis\n\n",
    "\n"
   ]
  },

{{ template_findings|safe }}

{{ template_appendix|safe }}

{{ template_attacktree|safe }}

  {
   "cell_type": "markdown",
   "metadata": {},
   "source": [
    "---\n",
    "title: \"{{DB_report_query.title}}\"\n\n",
    "product: \"{{DB_report_query.product.name}}\"\n\n",
    "author: [\"{{md_author}}\", \"Report ID: {{DB_report_query.report_id}}\"]\n\n",
    "date: \"{{report_date}}\"\n\n",
    "subject: \"{{md_subject}}\"\n\n",
    "subtitle: \"{{DB_report_query.report_id}}\"\n\n",
    "website: {{md_website}}\n\n",
    "---\n"
   ]
  }



 ],
 "metadata": {
  "kernelspec": {
   "display_name": "Python 3",
   "language": "python",
   "name": "python3"
  },
  "language_info": {
   "codemirror_mode": {
    "name": "ipython",
    "version": 3
   },
   "file_extension": ".py",
   "mimetype": "text/x-python",
   "name": "python",
   "nbconvert_exporter": "python",
   "pygments_lexer": "ipython3",
   "version": "3.8.5"
  }
 },
 "nbformat": 4,
 "nbformat_minor": 2
}



