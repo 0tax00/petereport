{% load app_filters %}

  {
   "cell_type": "markdown",
   "metadata": {},
   "source": [
    "## {{ finding.title }}\n",
    "**Severity:** {{ finding.severity }}\n\n",
    "**CVSS Score:** {{ finding.cvss_base_score }}\n\n",
    "**CWE:** {{ finding.cwe.cwe_id }} - {{ finding.cwe.cwe_name }}\n\n",
    "**Description**\n\n",
    "{{ finding.description|jupyter_format }}\n\n",
    "**Location**\n\n",
    "{{finding.location|jupyter_format }}\n\n",
    "**Impact**\n\n",
    "{{ finding.impact|jupyter_format }}\n\n",
    "**Recommendation**\n\n",
    "{{ finding.recommendation|jupyter_format }}\n\n",
    "**References**\n\n",
    "{{ finding.references|jupyter_format }}\n\n",
    "**Additional notes**\n",
    "\n"
   ]
  },